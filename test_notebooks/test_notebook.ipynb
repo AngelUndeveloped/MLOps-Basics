{
 "cells": [
  {
   "cell_type": "markdown",
   "metadata": {},
   "source": [
    "# Intro\n",
    "Remember to setup your environment\n",
    "\n",
    "## Setup\n",
    "Here are some versions the notebook will use\n",
    "\n",
    "### Python\n",
    "Version 3.12.3\n"
   ]
  },
  {
   "cell_type": "code",
   "execution_count": null,
   "metadata": {},
   "outputs": [],
   "source": [
    "# Import datasets if necessary, the version used is: 3.5.0\n",
    "# %pip install -U datasets"
   ]
  },
  {
   "cell_type": "code",
   "execution_count": null,
   "metadata": {},
   "outputs": [],
   "source": [
    "from datasets import load_dataset\n",
    "ag_news_train_dataset = load_dataset(\"wangrongsheng/ag_news\",split=\"train\")\n",
    "ag_news_test_dataset = load_dataset(\"wangrongsheng/ag_news\",split=\"test\")"
   ]
  },
  {
   "cell_type": "code",
   "execution_count": null,
   "metadata": {},
   "outputs": [],
   "source": [
    "print(ag_news_train_dataset)\n",
    "print(ag_news_test_dataset)"
   ]
  },
  {
   "cell_type": "markdown",
   "metadata": {},
   "source": [
    "# Split the training set\n",
    "Because the ag_news dataset only has a training and test set, we need to split the "
   ]
  },
  {
   "cell_type": "code",
   "execution_count": 5,
   "metadata": {},
   "outputs": [],
   "source": [
    "# Install Scilearn if necessary, the version use is: 1.6.1 \n",
    "# %pip install -U scikit-learn\n",
    "# %pip install -U tabulate"
   ]
  },
  {
   "cell_type": "code",
   "execution_count": null,
   "metadata": {},
   "outputs": [],
   "source": [
    "import pandas as pd\n",
    "# convert to pandas to facilitate splitting training dataset into training and validation\n",
    "ag_news_df = ag_news_train_dataset.to_pandas()"
   ]
  },
  {
   "cell_type": "code",
   "execution_count": null,
   "metadata": {},
   "outputs": [],
   "source": [
    "from tabulate import tabulate\n",
    "print(tabulate(ag_news_df))\n",
    "# print(ag_news_df[0])"
   ]
  },
  {
   "cell_type": "code",
   "execution_count": 10,
   "metadata": {},
   "outputs": [],
   "source": [
    "from sklearn.model_selection import train_test_split\n",
    "# split the training dataset into training and validation\n",
    "test_size_split = 0.2\n",
    "random_state_val = 42\n",
    "ag_news_train_df, ag_news_validation_df = train_test_split(ag_news_df, test_size=test_size_split, random_state=random_state_val)"
   ]
  },
  {
   "cell_type": "code",
   "execution_count": 16,
   "metadata": {},
   "outputs": [
    {
     "name": "stdout",
     "output_type": "stream",
     "text": [
      "(24000, 2)\n",
      "(96000, 2)\n",
      "                                                    text  label\n",
      "71787  BBC set for major shake-up, claims newspaper L...      2\n",
      "67218  Marsh averts cash crunch Embattled insurance b...      2\n",
      "54066  Jeter, Yankees Look to Take Control (AP) AP - ...      1\n",
      "7168   Flying the Sun to Safety When the Genesis caps...      3\n",
      "29618  Stocks Seen Flat as Nortel and Oil Weigh  NEW ...      2\n",
      "                                                     text  label\n",
      "53541   Support independent journalism Please donate n...      0\n",
      "41728   Stingy Falcons Defense Key to 3-0 Start (AP) A...      1\n",
      "74819   Pak, Sri Lanka lock horns in Karachi Test toda...      1\n",
      "106459  Villages tune in to digital trial Two villages...      3\n",
      "63062   South African gold groups poised for merger A ...      2\n"
     ]
    },
    {
     "data": {
      "text/plain": [
       "{'text': 'The Race is On: Second Private Team Sets Launch Date for Human Spaceflight (SPACE.com) SPACE.com - TORONTO, Canada -- A second\\\\team of rocketeers competing for the  #36;10 million Ansari X Prize, a contest for\\\\privately funded suborbital space flight, has officially announced the first\\\\launch date for its manned rocket.',\n",
       " 'label': 3}"
      ]
     },
     "execution_count": 16,
     "metadata": {},
     "output_type": "execute_result"
    }
   ],
   "source": [
    "print(ag_news_validation_df.shape)\n",
    "print(ag_news_train_df.shape)\n",
    "print(ag_news_validation_df.head())\n",
    "print(ag_news_train_df.head())\n",
    "# print the shape of the training and validation datasets\n",
    "len(ag_news_train_df)\n",
    "len(ag_news_validation_df)\n",
    "len(ag_news_test_dataset)\n",
    "ag_news_test_dataset[1]"
   ]
  },
  {
   "cell_type": "code",
   "execution_count": 22,
   "metadata": {},
   "outputs": [],
   "source": [
    "from datasets import Dataset\n",
    "# Convert the training and validation datasets back to datasets\n",
    "ag_news_train_dataset = Dataset.from_pandas(ag_news_train_df)\n",
    "ag_news_validation_dataset = Dataset.from_pandas(ag_news_validation_df)"
   ]
  },
  {
   "cell_type": "code",
   "execution_count": 23,
   "metadata": {},
   "outputs": [
    {
     "name": "stdout",
     "output_type": "stream",
     "text": [
      "Dataset({\n",
      "    features: ['text', 'label', '__index_level_0__'],\n",
      "    num_rows: 96000\n",
      "})\n",
      "Dataset({\n",
      "    features: ['text', 'label', '__index_level_0__'],\n",
      "    num_rows: 24000\n",
      "})\n"
     ]
    },
    {
     "data": {
      "text/plain": [
       "24000"
      ]
     },
     "execution_count": 23,
     "metadata": {},
     "output_type": "execute_result"
    }
   ],
   "source": [
    "print(ag_news_train_dataset)\n",
    "len(ag_news_train_dataset)\n",
    "print(ag_news_validation_dataset)\n",
    "len(ag_news_validation_dataset)\n"
   ]
  }
 ],
 "metadata": {
  "kernelspec": {
   "display_name": ".venv",
   "language": "python",
   "name": "python3"
  },
  "language_info": {
   "codemirror_mode": {
    "name": "ipython",
    "version": 3
   },
   "file_extension": ".py",
   "mimetype": "text/x-python",
   "name": "python",
   "nbconvert_exporter": "python",
   "pygments_lexer": "ipython3",
   "version": "3.12.3"
  }
 },
 "nbformat": 4,
 "nbformat_minor": 2
}
